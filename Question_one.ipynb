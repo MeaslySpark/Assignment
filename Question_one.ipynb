{
 "cells": [
  {
   "cell_type": "code",
   "execution_count": 1,
   "metadata": {},
   "outputs": [],
   "source": [
    "import pennylane as qml\n",
    "from pennylane import numpy as np\n",
    "import qiskit"
   ]
  },
  {
   "cell_type": "code",
   "execution_count": 15,
   "metadata": {},
   "outputs": [],
   "source": [
    "class Converter:\n",
    "    def __init__(self, qc):\n",
    "        self.qc = qc\n",
    "\n",
    "    def convert(self):\n",
    "        num_qubits = self.qc.num_qubits\n",
    "        dev = qml.device(\"default.qubit\", wires=num_qubits)\n",
    "        \n",
    "        @qml.qnode(dev)\n",
    "        def circuit(params):\n",
    "            for instr, qargs, params_qiskit in self.qc.data:\n",
    "                gate_name = instr.name\n",
    "                qubit_indices = [qarg.index for qarg in qargs]\n",
    "                if gate_name == 'h':\n",
    "                    qml.Hadamard(wires=qubit_indices)\n",
    "                elif gate_name == 'x':\n",
    "                    qml.PauliX(wires=qubit_indices)\n",
    "                elif gate_name == 'y':\n",
    "                    qml.PauliY(wires=qubit_indices)\n",
    "                elif gate_name == 'z':\n",
    "                    qml.PauliZ(wires=qubit_indices)\n",
    "                elif gate_name == 'cx':\n",
    "                    qml.CNOT(wires=qubit_indices)\n",
    "                # Add conditions for other gate types\n",
    "                elif gate_name == 'rx':\n",
    "                    angle = instr.params\n",
    "                    qml.RX(angle, wires=qubit_indices)\n",
    "                elif gate_name == 'ry':\n",
    "                    angle = instr.params\n",
    "                    qml.RY(angle, wires=qubit_indices)\n",
    "                elif gate_name == 'rz':\n",
    "                    angle = instr.params\n",
    "                    qml.RZ(angle, wires=qubit_indices)\n",
    "            return qml.expval(qml.PauliZ(0))\n",
    "\n",
    "        return circuit"
   ]
  },
  {
   "cell_type": "code",
   "execution_count": 16,
   "metadata": {},
   "outputs": [
    {
     "data": {
      "text/plain": [
       "<qiskit.circuit.instructionset.InstructionSet at 0x1773d4fd0>"
      ]
     },
     "execution_count": 16,
     "metadata": {},
     "output_type": "execute_result"
    }
   ],
   "source": [
    "qc = qiskit.QuantumCircuit(4)\n",
    "qc.h(0)\n",
    "qc.h(1)\n",
    "qc.h(3)\n",
    "qc.h(2)\n",
    "qc.rx(0.5, 1)\n",
    "qc.cx(0,1)"
   ]
  },
  {
   "cell_type": "code",
   "execution_count": 17,
   "metadata": {},
   "outputs": [
    {
     "name": "stdout",
     "output_type": "stream",
     "text": [
      "     ┌───┐                \n",
      "q_0: ┤ H ├─────────────■──\n",
      "     ├───┤┌─────────┐┌─┴─┐\n",
      "q_1: ┤ H ├┤ Rx(0.5) ├┤ X ├\n",
      "     ├───┤└─────────┘└───┘\n",
      "q_2: ┤ H ├────────────────\n",
      "     ├───┤                \n",
      "q_3: ┤ H ├────────────────\n",
      "     └───┘                \n"
     ]
    }
   ],
   "source": [
    "print(qc)"
   ]
  },
  {
   "cell_type": "code",
   "execution_count": 18,
   "metadata": {},
   "outputs": [],
   "source": [
    "converter = Converter(qc=qc)"
   ]
  },
  {
   "cell_type": "code",
   "execution_count": 19,
   "metadata": {},
   "outputs": [],
   "source": [
    "qnode = converter.convert()"
   ]
  },
  {
   "cell_type": "code",
   "execution_count": 20,
   "metadata": {},
   "outputs": [
    {
     "data": {
      "text/plain": [
       "<QNode: wires=4, device='default.qubit', interface='auto', diff_method='best'>"
      ]
     },
     "execution_count": 20,
     "metadata": {},
     "output_type": "execute_result"
    }
   ],
   "source": [
    "qnode"
   ]
  },
  {
   "cell_type": "code",
   "execution_count": 25,
   "metadata": {},
   "outputs": [
    {
     "name": "stderr",
     "output_type": "stream",
     "text": [
      "/var/folders/m0/98wc8z1s20g0f2k4zvkn7ypr0000gn/T/ipykernel_10555/2720746945.py:13: DeprecationWarning: The property ``qiskit.circuit.bit.Bit.index`` is deprecated as of qiskit-terra 0.17. It will be removed no earlier than 3 months after the release date. Instead, use :meth:`~qiskit.circuit.quantumcircuit.QuantumCircuit.find_bit` to find all the containing registers within a circuit and the index of the bit within the circuit.\n",
      "  qubit_indices = [qarg.index for qarg in qargs]\n"
     ]
    },
    {
     "data": {
      "text/plain": [
       "(<Figure size 600x500 with 1 Axes>, <Axes: >)"
      ]
     },
     "execution_count": 25,
     "metadata": {},
     "output_type": "execute_result"
    },
    {
     "data": {
      "image/png": "[encoded data removed]",
      "text/plain": [
       "<Figure size 600x500 with 1 Axes>"
      ]
     },
     "metadata": {},
     "output_type": "display_data"
    }
   ],
   "source": [
    "# Expected Output\n",
    "params = np.array([0.5])\n",
    "qml.drawer.use_style(\"default\")\n",
    "qml.draw_mpl(qnode)(params) "
   ]
  },
  {
   "cell_type": "code",
   "execution_count": null,
   "metadata": {},
   "outputs": [],
   "source": []
  }
 ],
 "metadata": {
  "kernelspec": {
   "display_name": "quantum",
   "language": "python",
   "name": "python3"
  },
  "language_info": {
   "codemirror_mode": {
    "name": "ipython",
    "version": 3
   },
   "file_extension": ".py",
   "mimetype": "text/x-python",
   "name": "python",
   "nbconvert_exporter": "python",
   "pygments_lexer": "ipython3",
   "version": "3.8.10"
  }
 },
 "nbformat": 4,
 "nbformat_minor": 2
}
