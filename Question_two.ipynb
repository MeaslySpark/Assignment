{
 "cells": [
  {
   "cell_type": "code",
   "execution_count": 131,
   "metadata": {},
   "outputs": [],
   "source": [
    "import pennylane as qml\n",
    "import numpy as np\n",
    "import qiskit     \n",
    "from qiskit.quantum_info import Pauli\n",
    "from scipy.optimize import minimize\n",
    "from qiskit import QuantumCircuit, execute, Aer\n",
    "from qiskit.quantum_info import Statevector"
   ]
  },
  {
   "cell_type": "code",
   "execution_count": 137,
   "metadata": {},
   "outputs": [],
   "source": [
    "def circuit(theta):\n",
    "    # Create quantum circuit\n",
    "    circ = QuantumCircuit(3)\n",
    "    circ.h(range(3)) \n",
    "    for i, t in enumerate(theta[:3]):\n",
    "        circ.p(t, i)\n",
    "    circ.h(range(1, 3))  # Corrected the range here\n",
    "    for i, t in enumerate(theta[3:]):\n",
    "        circ.crx(t, i, i+1)  # Adjusted indices here\n",
    "    backend = Aer.get_backend('statevector_simulator')\n",
    "    job = execute(circ, backend)\n",
    "    result = job.result()\n",
    "    initial_state = result.get_statevector(circ)\n",
    "    rho = np.outer(initial_state, np.conj(initial_state))\n",
    "    return rho"
   ]
  },
  {
   "cell_type": "code",
   "execution_count": 138,
   "metadata": {},
   "outputs": [],
   "source": [
    "def hamiltonian():\n",
    "    # Create Identity and Pauli-Z operators\n",
    "    I_ = Pauli('I').to_matrix()\n",
    "    Z_ = Pauli('Z').to_matrix()\n",
    "    Y_ = Pauli('Y').to_matrix()\n",
    "    X_ = Pauli('X').to_matrix()\n",
    "\n",
    "    # Create tensor products\n",
    "    pauli_1 = np.kron(X_, np.kron(X_, I_))\n",
    "    pauli_2 = np.kron(I_, np.kron(X_, X_))\n",
    "    pauli_3 = np.kron(Y_, np.kron(Y_, I_))\n",
    "    pauli_4 = np.kron(I_, np.kron(Y_, Y_))\n",
    "    pauli_5 = np.kron(Z_, np.kron(Z_, I_))\n",
    "    pauli_6 = np.kron(I_, np.kron(Z_, Z_))\n",
    "   \n",
    "    # Create Hamiltonian\n",
    "    H = (pauli_1 + pauli_2 + pauli_3 + pauli_4 + pauli_5 + pauli_6)\n",
    "    return H"
   ]
  },
  {
   "cell_type": "code",
   "execution_count": 139,
   "metadata": {},
   "outputs": [],
   "source": [
    "def objective_function(theta):\n",
    "    rho = circuit(theta)\n",
    "    H = hamiltonian()\n",
    "    expectation = np.trace(np.dot(H, rho))\n",
    "    return expectation"
   ]
  },
  {
   "cell_type": "code",
   "execution_count": 140,
   "metadata": {},
   "outputs": [],
   "source": [
    "# Initial guess for theta\n",
    "initial_theta = np.random.rand(5) * 2 * np.pi\n",
    "\n",
    "# Minimize the objective function\n",
    "result = minimize(objective_function, initial_theta, method='Nelder-Mead')\n",
    "\n",
    "# Optimal values of theta\n",
    "optimal_theta = result.x\n",
    "\n",
    "# Minimum expectation value\n",
    "min_expectation = result.fun"
   ]
  },
  {
   "cell_type": "code",
   "execution_count": 141,
   "metadata": {},
   "outputs": [
    {
     "name": "stdout",
     "output_type": "stream",
     "text": [
      "Optimal theta: [1.57080909 2.35621264 2.35617182 4.71233105 4.71244442]\n",
      "Minimum expectation value: -3.8284271233663443\n"
     ]
    }
   ],
   "source": [
    "print(\"Optimal theta:\", optimal_theta)\n",
    "print(\"Minimum expectation value:\", min_expectation)"
   ]
  }
 ],
 "metadata": {
  "kernelspec": {
   "display_name": "quantum",
   "language": "python",
   "name": "python3"
  },
  "language_info": {
   "codemirror_mode": {
    "name": "ipython",
    "version": 3
   },
   "file_extension": ".py",
   "mimetype": "text/x-python",
   "name": "python",
   "nbconvert_exporter": "python",
   "pygments_lexer": "ipython3",
   "version": "3.8.10"
  }
 },
 "nbformat": 4,
 "nbformat_minor": 2
}
